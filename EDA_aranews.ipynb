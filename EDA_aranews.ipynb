{
 "cells": [
  {
   "cell_type": "code",
   "execution_count": 86,
   "id": "aware-atlanta",
   "metadata": {},
   "outputs": [],
   "source": [
    "import pandas as pd\n",
    "import numpy as np\n",
    "import matplotlib.pyplot as plt\n",
    "import pandas_read_xml as pdx\n",
    "import xml.etree.ElementTree as ET\n",
    "from lxml import objectify \n",
    "import re\n",
    "\n",
    "import gensim\n",
    "from nltk import ngrams\n",
    "\n",
    "from gensim.test.utils import datapath\n",
    "from gensim import utils\n",
    "import gensim.models\n"
   ]
  },
  {
   "cell_type": "code",
   "execution_count": null,
   "id": "universal-connection",
   "metadata": {},
   "outputs": [],
   "source": [
    "#Some offending characters had to be removed manually\n",
    "df = pdx.read_xml('data/Sabanews_utf_8.xml', ['SabanewsData', 'Sabanews'],\n",
    "                 root_is_rows=False)"
   ]
  },
  {
   "cell_type": "code",
   "execution_count": 33,
   "id": "plastic-trinidad",
   "metadata": {},
   "outputs": [
    {
     "data": {
      "text/html": [
       "<div>\n",
       "<style scoped>\n",
       "    .dataframe tbody tr th:only-of-type {\n",
       "        vertical-align: middle;\n",
       "    }\n",
       "\n",
       "    .dataframe tbody tr th {\n",
       "        vertical-align: top;\n",
       "    }\n",
       "\n",
       "    .dataframe thead th {\n",
       "        text-align: right;\n",
       "    }\n",
       "</style>\n",
       "<table border=\"1\" class=\"dataframe\">\n",
       "  <thead>\n",
       "    <tr style=\"text-align: right;\">\n",
       "      <th></th>\n",
       "      <th>ID</th>\n",
       "      <th>URL</th>\n",
       "      <th>Headline</th>\n",
       "      <th>Dateline</th>\n",
       "      <th>Text</th>\n",
       "    </tr>\n",
       "  </thead>\n",
       "  <tbody>\n",
       "    <tr>\n",
       "      <th>0</th>\n",
       "      <td>SBN_ARB_0000001</td>\n",
       "      <td>http://www.sabanews.net/ar/news200024.htm</td>\n",
       "      <td>الكونجرس الأمريكي يطالب المجتمع الدولي دعم الي...</td>\n",
       "      <td>08/ديسمبر/2009</td>\n",
       "      <td>08/ديسمبر/2009] واشنطن ـ سبأنت: طالب الكونجرس ...</td>\n",
       "    </tr>\n",
       "    <tr>\n",
       "      <th>1</th>\n",
       "      <td>SBN_ARB_0000002</td>\n",
       "      <td>http://www.sabanews.net/ar/news200066.htm</td>\n",
       "      <td>مناقشة إستراتيجية التواصل الخاصة بالأجندة الوط...</td>\n",
       "      <td>08/ديسمبر/2009</td>\n",
       "      <td>08/ديسمبر/2009] صنعاء ـ سبأنت: جرى اليوم بوزار...</td>\n",
       "    </tr>\n",
       "    <tr>\n",
       "      <th>2</th>\n",
       "      <td>SBN_ARB_0000003</td>\n",
       "      <td>http://www.sabanews.net/ar/news200073.htm</td>\n",
       "      <td>نائب وزير التخطيط يلتقي بعثة الوكالة اليابانية...</td>\n",
       "      <td>08/ديسمبر/2009</td>\n",
       "      <td>08/ديسمبر/2009] صنعاء ـ سبأنت: أشاد نائب وزير ...</td>\n",
       "    </tr>\n",
       "    <tr>\n",
       "      <th>3</th>\n",
       "      <td>SBN_ARB_0000004</td>\n",
       "      <td>http://www.sabanews.net/ar/news200090.htm</td>\n",
       "      <td>الناطق الرسمي: الرؤية الحكيمة للدولة في التعام...</td>\n",
       "      <td>08/ديسمبر/2009</td>\n",
       "      <td>08/ديسمبر/2009] صنعاء – سبأنت : أكد الناطق الر...</td>\n",
       "    </tr>\n",
       "    <tr>\n",
       "      <th>4</th>\n",
       "      <td>SBN_ARB_0000005</td>\n",
       "      <td>http://www.sabanews.net/ar/news200092.htm</td>\n",
       "      <td>نوكيا تطرح خدمة الخرائط والملاحة في الأسواق</td>\n",
       "      <td>08/ديسمبر/2009</td>\n",
       "      <td>08/ديسمبر/2009] القاهرة ـ سبأنت: عبداللطيف الك...</td>\n",
       "    </tr>\n",
       "  </tbody>\n",
       "</table>\n",
       "</div>"
      ],
      "text/plain": [
       "                ID                                        URL  \\\n",
       "0  SBN_ARB_0000001  http://www.sabanews.net/ar/news200024.htm   \n",
       "1  SBN_ARB_0000002  http://www.sabanews.net/ar/news200066.htm   \n",
       "2  SBN_ARB_0000003  http://www.sabanews.net/ar/news200073.htm   \n",
       "3  SBN_ARB_0000004  http://www.sabanews.net/ar/news200090.htm   \n",
       "4  SBN_ARB_0000005  http://www.sabanews.net/ar/news200092.htm   \n",
       "\n",
       "                                            Headline        Dateline  \\\n",
       "0  الكونجرس الأمريكي يطالب المجتمع الدولي دعم الي...  08/ديسمبر/2009   \n",
       "1  مناقشة إستراتيجية التواصل الخاصة بالأجندة الوط...  08/ديسمبر/2009   \n",
       "2  نائب وزير التخطيط يلتقي بعثة الوكالة اليابانية...  08/ديسمبر/2009   \n",
       "3  الناطق الرسمي: الرؤية الحكيمة للدولة في التعام...  08/ديسمبر/2009   \n",
       "4        نوكيا تطرح خدمة الخرائط والملاحة في الأسواق  08/ديسمبر/2009   \n",
       "\n",
       "                                                Text  \n",
       "0  08/ديسمبر/2009] واشنطن ـ سبأنت: طالب الكونجرس ...  \n",
       "1  08/ديسمبر/2009] صنعاء ـ سبأنت: جرى اليوم بوزار...  \n",
       "2  08/ديسمبر/2009] صنعاء ـ سبأنت: أشاد نائب وزير ...  \n",
       "3  08/ديسمبر/2009] صنعاء – سبأنت : أكد الناطق الر...  \n",
       "4  08/ديسمبر/2009] القاهرة ـ سبأنت: عبداللطيف الك...  "
      ]
     },
     "execution_count": 33,
     "metadata": {},
     "output_type": "execute_result"
    }
   ],
   "source": [
    "df.head(5)"
   ]
  },
  {
   "cell_type": "code",
   "execution_count": 34,
   "id": "respiratory-claim",
   "metadata": {},
   "outputs": [
    {
     "name": "stdout",
     "output_type": "stream",
     "text": [
      "<class 'pandas.core.frame.DataFrame'>\n",
      "RangeIndex: 92149 entries, 0 to 92148\n",
      "Data columns (total 5 columns):\n",
      " #   Column    Non-Null Count  Dtype \n",
      "---  ------    --------------  ----- \n",
      " 0   ID        92149 non-null  object\n",
      " 1   URL       92149 non-null  object\n",
      " 2   Headline  92149 non-null  object\n",
      " 3   Dateline  92149 non-null  object\n",
      " 4   Text      92149 non-null  object\n",
      "dtypes: object(5)\n",
      "memory usage: 3.5+ MB\n"
     ]
    }
   ],
   "source": [
    "df.info()"
   ]
  },
  {
   "cell_type": "code",
   "execution_count": 35,
   "id": "wrapped-prime",
   "metadata": {},
   "outputs": [],
   "source": [
    "def clean_text(text):\n",
    "    search = [\"أ\",\"إ\",\"آ\",\"ة\",\"_\",\"-\",\"/\",\".\",\"،\",\" و \",\" يا \",'\"',\"ـ\",\"'\",\"ى\",\"\\\\\",'\\n', '\\t','&quot;','?','؟','!']\n",
    "    replace = [\"ا\",\"ا\",\"ا\",\"ه\",\" \",\" \",\"\",\"\",\"\",\" و\",\" يا\",\"\",\"\",\"\",\"ي\",\"\",' ', ' ',' ',' ? ',' ؟ ',' ! ']  \n",
    "    p_tashkeel = re.compile(r'[\\u0617-\\u061A\\u064B-\\u0652]')\n",
    "    text = re.sub(p_tashkeel,\"\", text)\n",
    "    p_longation = re.compile(r'(.)\\1+')\n",
    "    subst = r\"\\1\\1\"\n",
    "    text = re.sub(p_longation, subst, text)\n",
    "    text = text.replace('وو', 'و')\n",
    "    text = text.replace('يي', 'ي')\n",
    "    text = text.replace('اا', 'ا')\n",
    "    \n",
    "    for i in range(0, len(search)):\n",
    "        text = text.replace(search[i], replace[i])\n",
    "        \n",
    "    text = text.strip()\n",
    "    \n",
    "    return text"
   ]
  },
  {
   "cell_type": "code",
   "execution_count": 39,
   "id": "catholic-implementation",
   "metadata": {},
   "outputs": [],
   "source": [
    "df['clean_text'] = df['Text'].apply(lambda x: clean_text(x))"
   ]
  },
  {
   "cell_type": "code",
   "execution_count": 66,
   "id": "expanded-jacksonville",
   "metadata": {},
   "outputs": [],
   "source": [
    "#removes date from main body of text\n",
    "df['new_clean_text'] = df['clean_text'].apply(lambda x: x[x.find(']')+1:])"
   ]
  },
  {
   "cell_type": "code",
   "execution_count": 83,
   "id": "existing-medicaid",
   "metadata": {},
   "outputs": [
    {
     "data": {
      "text/plain": [
       "0         واشنطن  سبانت: طالب الكونجرس الامريكي الاداره...\n",
       "1         صنعاء  سبانت: جري اليوم بوزاره التخطيط والتعا...\n",
       "2         صنعاء  سبانت: اشاد نائب وزير التخطيط والتعاون...\n",
       "3         صنعاء – سبانت : اكد الناطق الرسمي باسم الحكوم...\n",
       "4         القاهره  سبانت: عبداللطيف الكوماني عرضت شركه ...\n",
       "                               ...                        \n",
       "92144     نيامي  سبانت: وقعت حكومه النيجر ومجموعه اريفا...\n",
       "92145     نيودلهي  سبانت: ادي الزعيم القومي الهندوسي نا...\n",
       "92146     القاهره  سبانت: اغلقت صناديق الاقتراع في الان...\n",
       "92147     لندن  سبانت: اغلقت الاسهم الاوروبيه خلال تعام...\n",
       "92148     المحويت  سبانت: احتفلت كليه المجتمع بمحافظه ا...\n",
       "Name: new_clean_text, Length: 92149, dtype: object"
      ]
     },
     "execution_count": 83,
     "metadata": {},
     "output_type": "execute_result"
    }
   ],
   "source": [
    "df['new_clean_text']"
   ]
  },
  {
   "cell_type": "code",
   "execution_count": 81,
   "id": "referenced-toner",
   "metadata": {},
   "outputs": [],
   "source": [
    "#make sure model downloaded from https://github.com/bakrianoo/aravec is in local directory\n",
    "t_model = gensim.models.Word2Vec.load('data/full_grams_cbow_100_wiki.mdl')"
   ]
  },
  {
   "cell_type": "code",
   "execution_count": 85,
   "id": "ceramic-anthropology",
   "metadata": {},
   "outputs": [],
   "source": [
    "class MyCorpus:\n",
    "    \"\"\"An iterator that yields sentences (lists of str).\"\"\"\n",
    "\n",
    "    def __iter__(self):\n",
    "        #corpus_path = datapath('data/f')\n",
    "        for line in df['new_clean_text']:\n",
    "            # assume there's one document per line, tokens separated by whitespace\n",
    "            yield utils.simple_preprocess(line)"
   ]
  },
  {
   "cell_type": "code",
   "execution_count": 87,
   "id": "great-gazette",
   "metadata": {},
   "outputs": [],
   "source": [
    "sentences = MyCorpus()"
   ]
  },
  {
   "cell_type": "code",
   "execution_count": 88,
   "id": "parliamentary-saskatchewan",
   "metadata": {},
   "outputs": [],
   "source": [
    "model  = gensim.models.Word2Vec(sentences)"
   ]
  },
  {
   "cell_type": "code",
   "execution_count": 93,
   "id": "simple-mineral",
   "metadata": {},
   "outputs": [
    {
     "name": "stdout",
     "output_type": "stream",
     "text": [
      "'حرب'\t'قمح'\t0.08\n"
     ]
    }
   ],
   "source": [
    "pairs = [\n",
    "    #('يهود', 'إسرائيل'),   # a minivan is a kind of car\n",
    "    #('إيران', 'تهديد'),   # still a wheeled vehicle\n",
    "    ('حرب', 'قمح')  # ok, no wheels, but still a vehicle\n",
    "]\n",
    "for w1, w2 in pairs:\n",
    "    print('%r\\t%r\\t%.2f' % (w1, w2, model.wv.similarity(w1, w2)))"
   ]
  },
  {
   "cell_type": "code",
   "execution_count": 97,
   "id": "stainless-squad",
   "metadata": {},
   "outputs": [
    {
     "name": "stdout",
     "output_type": "stream",
     "text": [
      "word #0/82165 is في\n",
      "word #1/82165 is من\n",
      "word #2/82165 is علي\n",
      "word #3/82165 is الي\n",
      "word #4/82165 is ان\n",
      "word #5/82165 is التي\n",
      "word #6/82165 is سبا\n",
      "word #7/82165 is سبانت\n",
      "word #8/82165 is اليوم\n",
      "word #9/82165 is عن\n",
      "word #10/82165 is مع\n",
      "word #11/82165 is الذي\n",
      "word #12/82165 is خلال\n",
      "word #13/82165 is رئيس\n",
      "word #14/82165 is اليمن\n",
      "word #15/82165 is بين\n",
      "word #16/82165 is العام\n",
      "word #17/82165 is صنعاء\n",
      "word #18/82165 is هذه\n",
      "word #19/82165 is ما\n",
      "word #20/82165 is هذا\n",
      "word #21/82165 is عام\n",
      "word #22/82165 is بعد\n",
      "word #23/82165 is وفي\n",
      "word #24/82165 is اليمنيه\n",
      "word #25/82165 is محمد\n",
      "word #26/82165 is وزير\n",
      "word #27/82165 is العامه\n",
      "word #28/82165 is كما\n",
      "word #29/82165 is الدكتور\n",
      "word #30/82165 is الوطني\n",
      "word #31/82165 is عدد\n",
      "word #32/82165 is مجلس\n",
      "word #33/82165 is وقال\n",
      "word #34/82165 is المحافظه\n",
      "word #35/82165 is عدن\n",
      "word #36/82165 is اهميه\n",
      "word #37/82165 is العمل\n",
      "word #38/82165 is اللجنه\n",
      "word #39/82165 is قبل\n",
      "word #40/82165 is الرئيس\n",
      "word #41/82165 is عبد\n",
      "word #42/82165 is المتحده\n",
      "word #43/82165 is انه\n",
      "word #44/82165 is الامن\n",
      "word #45/82165 is مدير\n",
      "word #46/82165 is وزاره\n",
      "word #47/82165 is كل\n",
      "word #48/82165 is المجتمع\n",
      "word #49/82165 is حول\n",
      "word #50/82165 is فيما\n",
      "word #51/82165 is بالمحافظه\n",
      "word #52/82165 is تم\n",
      "word #53/82165 is الماضي\n",
      "word #54/82165 is العربيه\n",
      "word #55/82165 is اللقاء\n",
      "word #56/82165 is المجلس\n",
      "word #57/82165 is الدولي\n",
      "word #58/82165 is او\n",
      "word #59/82165 is الحوار\n",
      "word #60/82165 is احمد\n",
      "word #61/82165 is محافظه\n",
      "word #62/82165 is الاجتماع\n",
      "word #63/82165 is الجمهوريه\n",
      "word #64/82165 is ذلك\n",
      "word #65/82165 is الف\n",
      "word #66/82165 is مليون\n",
      "word #67/82165 is العاصمه\n",
      "word #68/82165 is المحليه\n",
      "word #69/82165 is اكد\n",
      "word #70/82165 is كافه\n",
      "word #71/82165 is التعاون\n",
      "word #72/82165 is لا\n",
      "word #73/82165 is الانباء\n",
      "word #74/82165 is بما\n",
      "word #75/82165 is الحكومه\n",
      "word #76/82165 is واوضح\n",
      "word #77/82165 is حيث\n",
      "word #78/82165 is مكتب\n",
      "word #79/82165 is الله\n",
      "word #80/82165 is مختلف\n",
      "word #81/82165 is قد\n",
      "word #82/82165 is دولار\n",
      "word #83/82165 is واشار\n",
      "word #84/82165 is واكد\n",
      "word #85/82165 is والتي\n",
      "word #86/82165 is فيها\n",
      "word #87/82165 is مستوي\n",
      "word #88/82165 is الاتحاد\n",
      "word #89/82165 is الوطنيه\n",
      "word #90/82165 is بمحافظه\n",
      "word #91/82165 is بان\n",
      "word #92/82165 is عمليه\n",
      "word #93/82165 is نقطه\n",
      "word #94/82165 is الدوليه\n",
      "word #95/82165 is مشروع\n",
      "word #96/82165 is الامنيه\n",
      "word #97/82165 is الخارجيه\n",
      "word #98/82165 is اي\n",
      "word #99/82165 is ضروره\n"
     ]
    }
   ],
   "source": [
    "for index, word in enumerate(model.wv.index_to_key):\n",
    "    if index == 100:\n",
    "        break\n",
    "    print(f\"word #{index}/{len(model.wv.index_to_key)} is {word}\")"
   ]
  },
  {
   "cell_type": "code",
   "execution_count": null,
   "id": "invisible-wheat",
   "metadata": {},
   "outputs": [],
   "source": []
  }
 ],
 "metadata": {
  "kernelspec": {
   "display_name": "Python 3",
   "language": "python",
   "name": "python3"
  },
  "language_info": {
   "codemirror_mode": {
    "name": "ipython",
    "version": 3
   },
   "file_extension": ".py",
   "mimetype": "text/x-python",
   "name": "python",
   "nbconvert_exporter": "python",
   "pygments_lexer": "ipython3",
   "version": "3.9.1"
  }
 },
 "nbformat": 4,
 "nbformat_minor": 5
}
