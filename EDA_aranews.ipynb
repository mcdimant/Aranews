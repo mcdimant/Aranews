{
 "cells": [
  {
   "cell_type": "code",
   "execution_count": 14,
   "id": "interpreted-context",
   "metadata": {},
   "outputs": [],
   "source": [
    "import pandas as pd\n",
    "import numpy as np\n",
    "import matplotlib.pyplot as plt\n",
    "import pandas_read_xml as pdx\n",
    "import xml.etree.ElementTree as ET\n",
    "from lxml import objectify \n"
   ]
  },
  {
   "cell_type": "code",
   "execution_count": null,
   "id": "demographic-gross",
   "metadata": {},
   "outputs": [],
   "source": [
    "#Some offending characters had to be removed manually\n",
    "df = pdx.read_xml('data/Sabanews_utf_8.xml', ['SabanewsData', 'Sabanews'],\n",
    "                 root_is_rows=False)"
   ]
  },
  {
   "cell_type": "code",
   "execution_count": 33,
   "id": "bearing-chance",
   "metadata": {},
   "outputs": [
    {
     "data": {
      "text/html": [
       "<div>\n",
       "<style scoped>\n",
       "    .dataframe tbody tr th:only-of-type {\n",
       "        vertical-align: middle;\n",
       "    }\n",
       "\n",
       "    .dataframe tbody tr th {\n",
       "        vertical-align: top;\n",
       "    }\n",
       "\n",
       "    .dataframe thead th {\n",
       "        text-align: right;\n",
       "    }\n",
       "</style>\n",
       "<table border=\"1\" class=\"dataframe\">\n",
       "  <thead>\n",
       "    <tr style=\"text-align: right;\">\n",
       "      <th></th>\n",
       "      <th>ID</th>\n",
       "      <th>URL</th>\n",
       "      <th>Headline</th>\n",
       "      <th>Dateline</th>\n",
       "      <th>Text</th>\n",
       "    </tr>\n",
       "  </thead>\n",
       "  <tbody>\n",
       "    <tr>\n",
       "      <th>0</th>\n",
       "      <td>SBN_ARB_0000001</td>\n",
       "      <td>http://www.sabanews.net/ar/news200024.htm</td>\n",
       "      <td>الكونجرس الأمريكي يطالب المجتمع الدولي دعم الي...</td>\n",
       "      <td>08/ديسمبر/2009</td>\n",
       "      <td>08/ديسمبر/2009] واشنطن ـ سبأنت: طالب الكونجرس ...</td>\n",
       "    </tr>\n",
       "    <tr>\n",
       "      <th>1</th>\n",
       "      <td>SBN_ARB_0000002</td>\n",
       "      <td>http://www.sabanews.net/ar/news200066.htm</td>\n",
       "      <td>مناقشة إستراتيجية التواصل الخاصة بالأجندة الوط...</td>\n",
       "      <td>08/ديسمبر/2009</td>\n",
       "      <td>08/ديسمبر/2009] صنعاء ـ سبأنت: جرى اليوم بوزار...</td>\n",
       "    </tr>\n",
       "    <tr>\n",
       "      <th>2</th>\n",
       "      <td>SBN_ARB_0000003</td>\n",
       "      <td>http://www.sabanews.net/ar/news200073.htm</td>\n",
       "      <td>نائب وزير التخطيط يلتقي بعثة الوكالة اليابانية...</td>\n",
       "      <td>08/ديسمبر/2009</td>\n",
       "      <td>08/ديسمبر/2009] صنعاء ـ سبأنت: أشاد نائب وزير ...</td>\n",
       "    </tr>\n",
       "    <tr>\n",
       "      <th>3</th>\n",
       "      <td>SBN_ARB_0000004</td>\n",
       "      <td>http://www.sabanews.net/ar/news200090.htm</td>\n",
       "      <td>الناطق الرسمي: الرؤية الحكيمة للدولة في التعام...</td>\n",
       "      <td>08/ديسمبر/2009</td>\n",
       "      <td>08/ديسمبر/2009] صنعاء – سبأنت : أكد الناطق الر...</td>\n",
       "    </tr>\n",
       "    <tr>\n",
       "      <th>4</th>\n",
       "      <td>SBN_ARB_0000005</td>\n",
       "      <td>http://www.sabanews.net/ar/news200092.htm</td>\n",
       "      <td>نوكيا تطرح خدمة الخرائط والملاحة في الأسواق</td>\n",
       "      <td>08/ديسمبر/2009</td>\n",
       "      <td>08/ديسمبر/2009] القاهرة ـ سبأنت: عبداللطيف الك...</td>\n",
       "    </tr>\n",
       "  </tbody>\n",
       "</table>\n",
       "</div>"
      ],
      "text/plain": [
       "                ID                                        URL  \\\n",
       "0  SBN_ARB_0000001  http://www.sabanews.net/ar/news200024.htm   \n",
       "1  SBN_ARB_0000002  http://www.sabanews.net/ar/news200066.htm   \n",
       "2  SBN_ARB_0000003  http://www.sabanews.net/ar/news200073.htm   \n",
       "3  SBN_ARB_0000004  http://www.sabanews.net/ar/news200090.htm   \n",
       "4  SBN_ARB_0000005  http://www.sabanews.net/ar/news200092.htm   \n",
       "\n",
       "                                            Headline        Dateline  \\\n",
       "0  الكونجرس الأمريكي يطالب المجتمع الدولي دعم الي...  08/ديسمبر/2009   \n",
       "1  مناقشة إستراتيجية التواصل الخاصة بالأجندة الوط...  08/ديسمبر/2009   \n",
       "2  نائب وزير التخطيط يلتقي بعثة الوكالة اليابانية...  08/ديسمبر/2009   \n",
       "3  الناطق الرسمي: الرؤية الحكيمة للدولة في التعام...  08/ديسمبر/2009   \n",
       "4        نوكيا تطرح خدمة الخرائط والملاحة في الأسواق  08/ديسمبر/2009   \n",
       "\n",
       "                                                Text  \n",
       "0  08/ديسمبر/2009] واشنطن ـ سبأنت: طالب الكونجرس ...  \n",
       "1  08/ديسمبر/2009] صنعاء ـ سبأنت: جرى اليوم بوزار...  \n",
       "2  08/ديسمبر/2009] صنعاء ـ سبأنت: أشاد نائب وزير ...  \n",
       "3  08/ديسمبر/2009] صنعاء – سبأنت : أكد الناطق الر...  \n",
       "4  08/ديسمبر/2009] القاهرة ـ سبأنت: عبداللطيف الك...  "
      ]
     },
     "execution_count": 33,
     "metadata": {},
     "output_type": "execute_result"
    }
   ],
   "source": [
    "df.head(5)"
   ]
  },
  {
   "cell_type": "code",
   "execution_count": 34,
   "id": "extensive-membrane",
   "metadata": {},
   "outputs": [
    {
     "name": "stdout",
     "output_type": "stream",
     "text": [
      "<class 'pandas.core.frame.DataFrame'>\n",
      "RangeIndex: 92149 entries, 0 to 92148\n",
      "Data columns (total 5 columns):\n",
      " #   Column    Non-Null Count  Dtype \n",
      "---  ------    --------------  ----- \n",
      " 0   ID        92149 non-null  object\n",
      " 1   URL       92149 non-null  object\n",
      " 2   Headline  92149 non-null  object\n",
      " 3   Dateline  92149 non-null  object\n",
      " 4   Text      92149 non-null  object\n",
      "dtypes: object(5)\n",
      "memory usage: 3.5+ MB\n"
     ]
    }
   ],
   "source": [
    "df.info()"
   ]
  },
  {
   "cell_type": "code",
   "execution_count": null,
   "id": "metric-bracelet",
   "metadata": {},
   "outputs": [],
   "source": []
  }
 ],
 "metadata": {
  "kernelspec": {
   "display_name": "Python 3",
   "language": "python",
   "name": "python3"
  },
  "language_info": {
   "codemirror_mode": {
    "name": "ipython",
    "version": 3
   },
   "file_extension": ".py",
   "mimetype": "text/x-python",
   "name": "python",
   "nbconvert_exporter": "python",
   "pygments_lexer": "ipython3",
   "version": "3.9.1"
  }
 },
 "nbformat": 4,
 "nbformat_minor": 5
}
