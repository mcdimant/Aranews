{
 "cells": [
  {
   "cell_type": "code",
   "execution_count": 38,
   "id": "satellite-firmware",
   "metadata": {},
   "outputs": [],
   "source": [
    "import pandas as pd\n",
    "import numpy as np\n",
    "import matplotlib.pyplot as plt\n",
    "import pandas_read_xml as pdx\n",
    "import xml.etree.ElementTree as ET\n",
    "from lxml import objectify \n",
    "import re\n",
    "\n"
   ]
  },
  {
   "cell_type": "code",
   "execution_count": null,
   "id": "norwegian-intake",
   "metadata": {},
   "outputs": [],
   "source": [
    "#Some offending characters had to be removed manually\n",
    "df = pdx.read_xml('data/Sabanews_utf_8.xml', ['SabanewsData', 'Sabanews'],\n",
    "                 root_is_rows=False)"
   ]
  },
  {
   "cell_type": "code",
   "execution_count": 33,
   "id": "received-position",
   "metadata": {},
   "outputs": [
    {
     "data": {
      "text/html": [
       "<div>\n",
       "<style scoped>\n",
       "    .dataframe tbody tr th:only-of-type {\n",
       "        vertical-align: middle;\n",
       "    }\n",
       "\n",
       "    .dataframe tbody tr th {\n",
       "        vertical-align: top;\n",
       "    }\n",
       "\n",
       "    .dataframe thead th {\n",
       "        text-align: right;\n",
       "    }\n",
       "</style>\n",
       "<table border=\"1\" class=\"dataframe\">\n",
       "  <thead>\n",
       "    <tr style=\"text-align: right;\">\n",
       "      <th></th>\n",
       "      <th>ID</th>\n",
       "      <th>URL</th>\n",
       "      <th>Headline</th>\n",
       "      <th>Dateline</th>\n",
       "      <th>Text</th>\n",
       "    </tr>\n",
       "  </thead>\n",
       "  <tbody>\n",
       "    <tr>\n",
       "      <th>0</th>\n",
       "      <td>SBN_ARB_0000001</td>\n",
       "      <td>http://www.sabanews.net/ar/news200024.htm</td>\n",
       "      <td>الكونجرس الأمريكي يطالب المجتمع الدولي دعم الي...</td>\n",
       "      <td>08/ديسمبر/2009</td>\n",
       "      <td>08/ديسمبر/2009] واشنطن ـ سبأنت: طالب الكونجرس ...</td>\n",
       "    </tr>\n",
       "    <tr>\n",
       "      <th>1</th>\n",
       "      <td>SBN_ARB_0000002</td>\n",
       "      <td>http://www.sabanews.net/ar/news200066.htm</td>\n",
       "      <td>مناقشة إستراتيجية التواصل الخاصة بالأجندة الوط...</td>\n",
       "      <td>08/ديسمبر/2009</td>\n",
       "      <td>08/ديسمبر/2009] صنعاء ـ سبأنت: جرى اليوم بوزار...</td>\n",
       "    </tr>\n",
       "    <tr>\n",
       "      <th>2</th>\n",
       "      <td>SBN_ARB_0000003</td>\n",
       "      <td>http://www.sabanews.net/ar/news200073.htm</td>\n",
       "      <td>نائب وزير التخطيط يلتقي بعثة الوكالة اليابانية...</td>\n",
       "      <td>08/ديسمبر/2009</td>\n",
       "      <td>08/ديسمبر/2009] صنعاء ـ سبأنت: أشاد نائب وزير ...</td>\n",
       "    </tr>\n",
       "    <tr>\n",
       "      <th>3</th>\n",
       "      <td>SBN_ARB_0000004</td>\n",
       "      <td>http://www.sabanews.net/ar/news200090.htm</td>\n",
       "      <td>الناطق الرسمي: الرؤية الحكيمة للدولة في التعام...</td>\n",
       "      <td>08/ديسمبر/2009</td>\n",
       "      <td>08/ديسمبر/2009] صنعاء – سبأنت : أكد الناطق الر...</td>\n",
       "    </tr>\n",
       "    <tr>\n",
       "      <th>4</th>\n",
       "      <td>SBN_ARB_0000005</td>\n",
       "      <td>http://www.sabanews.net/ar/news200092.htm</td>\n",
       "      <td>نوكيا تطرح خدمة الخرائط والملاحة في الأسواق</td>\n",
       "      <td>08/ديسمبر/2009</td>\n",
       "      <td>08/ديسمبر/2009] القاهرة ـ سبأنت: عبداللطيف الك...</td>\n",
       "    </tr>\n",
       "  </tbody>\n",
       "</table>\n",
       "</div>"
      ],
      "text/plain": [
       "                ID                                        URL  \\\n",
       "0  SBN_ARB_0000001  http://www.sabanews.net/ar/news200024.htm   \n",
       "1  SBN_ARB_0000002  http://www.sabanews.net/ar/news200066.htm   \n",
       "2  SBN_ARB_0000003  http://www.sabanews.net/ar/news200073.htm   \n",
       "3  SBN_ARB_0000004  http://www.sabanews.net/ar/news200090.htm   \n",
       "4  SBN_ARB_0000005  http://www.sabanews.net/ar/news200092.htm   \n",
       "\n",
       "                                            Headline        Dateline  \\\n",
       "0  الكونجرس الأمريكي يطالب المجتمع الدولي دعم الي...  08/ديسمبر/2009   \n",
       "1  مناقشة إستراتيجية التواصل الخاصة بالأجندة الوط...  08/ديسمبر/2009   \n",
       "2  نائب وزير التخطيط يلتقي بعثة الوكالة اليابانية...  08/ديسمبر/2009   \n",
       "3  الناطق الرسمي: الرؤية الحكيمة للدولة في التعام...  08/ديسمبر/2009   \n",
       "4        نوكيا تطرح خدمة الخرائط والملاحة في الأسواق  08/ديسمبر/2009   \n",
       "\n",
       "                                                Text  \n",
       "0  08/ديسمبر/2009] واشنطن ـ سبأنت: طالب الكونجرس ...  \n",
       "1  08/ديسمبر/2009] صنعاء ـ سبأنت: جرى اليوم بوزار...  \n",
       "2  08/ديسمبر/2009] صنعاء ـ سبأنت: أشاد نائب وزير ...  \n",
       "3  08/ديسمبر/2009] صنعاء – سبأنت : أكد الناطق الر...  \n",
       "4  08/ديسمبر/2009] القاهرة ـ سبأنت: عبداللطيف الك...  "
      ]
     },
     "execution_count": 33,
     "metadata": {},
     "output_type": "execute_result"
    }
   ],
   "source": [
    "df.head(5)"
   ]
  },
  {
   "cell_type": "code",
   "execution_count": 34,
   "id": "brief-dinner",
   "metadata": {},
   "outputs": [
    {
     "name": "stdout",
     "output_type": "stream",
     "text": [
      "<class 'pandas.core.frame.DataFrame'>\n",
      "RangeIndex: 92149 entries, 0 to 92148\n",
      "Data columns (total 5 columns):\n",
      " #   Column    Non-Null Count  Dtype \n",
      "---  ------    --------------  ----- \n",
      " 0   ID        92149 non-null  object\n",
      " 1   URL       92149 non-null  object\n",
      " 2   Headline  92149 non-null  object\n",
      " 3   Dateline  92149 non-null  object\n",
      " 4   Text      92149 non-null  object\n",
      "dtypes: object(5)\n",
      "memory usage: 3.5+ MB\n"
     ]
    }
   ],
   "source": [
    "df.info()"
   ]
  },
  {
   "cell_type": "code",
   "execution_count": 35,
   "id": "unusual-adobe",
   "metadata": {},
   "outputs": [],
   "source": [
    "def clean_text(text):\n",
    "    search = [\"أ\",\"إ\",\"آ\",\"ة\",\"_\",\"-\",\"/\",\".\",\"،\",\" و \",\" يا \",'\"',\"ـ\",\"'\",\"ى\",\"\\\\\",'\\n', '\\t','&quot;','?','؟','!']\n",
    "    replace = [\"ا\",\"ا\",\"ا\",\"ه\",\" \",\" \",\"\",\"\",\"\",\" و\",\" يا\",\"\",\"\",\"\",\"ي\",\"\",' ', ' ',' ',' ? ',' ؟ ',' ! ']  \n",
    "    p_tashkeel = re.compile(r'[\\u0617-\\u061A\\u064B-\\u0652]')\n",
    "    text = re.sub(p_tashkeel,\"\", text)\n",
    "    p_longation = re.compile(r'(.)\\1+')\n",
    "    subst = r\"\\1\\1\"\n",
    "    text = re.sub(p_longation, subst, text)\n",
    "    text = text.replace('وو', 'و')\n",
    "    text = text.replace('يي', 'ي')\n",
    "    text = text.replace('اا', 'ا')\n",
    "    \n",
    "    for i in range(0, len(search)):\n",
    "        text = text.replace(search[i], replace[i])\n",
    "        \n",
    "    text = text.strip()\n",
    "    \n",
    "    return text"
   ]
  },
  {
   "cell_type": "code",
   "execution_count": 39,
   "id": "engaged-spoke",
   "metadata": {},
   "outputs": [],
   "source": [
    "df['clean_text'] = df['Text'].apply(lambda x: clean_text(x))"
   ]
  },
  {
   "cell_type": "code",
   "execution_count": 66,
   "id": "valuable-italic",
   "metadata": {},
   "outputs": [],
   "source": [
    "#removes date from main body of text\n",
    "df['new_clean_text'] = df['clean_text'].apply(lambda x: x[x.find(']')+1:])"
   ]
  },
  {
   "cell_type": "code",
   "execution_count": null,
   "id": "alternative-taxation",
   "metadata": {},
   "outputs": [],
   "source": []
  }
 ],
 "metadata": {
  "kernelspec": {
   "display_name": "Python 3",
   "language": "python",
   "name": "python3"
  },
  "language_info": {
   "codemirror_mode": {
    "name": "ipython",
    "version": 3
   },
   "file_extension": ".py",
   "mimetype": "text/x-python",
   "name": "python",
   "nbconvert_exporter": "python",
   "pygments_lexer": "ipython3",
   "version": "3.9.1"
  }
 },
 "nbformat": 4,
 "nbformat_minor": 5
}
